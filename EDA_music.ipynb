{
 "cells": [
  {
   "cell_type": "code",
   "execution_count": 2,
   "id": "steady-simple",
   "metadata": {},
   "outputs": [],
   "source": [
    "import numpy as np\n",
    "import pandas as pd\n",
    "import seaborn as sns\n",
    "import matplotlib as mpl\n",
    "import matplotlib.pyplot as plt\n",
    "mpl.rcParams['agg.path.chunksize'] = 10000\n",
    "import bootstrapped.bootstrap as bs\n",
    "import bootstrapped.stats_functions as bs_stats"
   ]
  },
  {
   "cell_type": "code",
   "execution_count": 3,
   "id": "strategic-mainland",
   "metadata": {},
   "outputs": [],
   "source": [
    "tracks_data_path = \"C:/Users/karra/Desktop/ml_music/tracks.csv\""
   ]
  },
  {
   "cell_type": "code",
   "execution_count": 4,
   "id": "blessed-technician",
   "metadata": {},
   "outputs": [],
   "source": [
    "tracks_data = pd.read_csv(tracks_data_path)"
   ]
  },
  {
   "cell_type": "code",
   "execution_count": 5,
   "id": "round-decade",
   "metadata": {},
   "outputs": [
    {
     "name": "stdout",
     "output_type": "stream",
     "text": [
      "<class 'pandas.core.frame.DataFrame'>\n",
      "RangeIndex: 586672 entries, 0 to 586671\n",
      "Data columns (total 20 columns):\n",
      " #   Column            Non-Null Count   Dtype  \n",
      "---  ------            --------------   -----  \n",
      " 0   id                586672 non-null  object \n",
      " 1   name              586601 non-null  object \n",
      " 2   popularity        586672 non-null  int64  \n",
      " 3   duration_ms       586672 non-null  int64  \n",
      " 4   explicit          586672 non-null  int64  \n",
      " 5   artists           586672 non-null  object \n",
      " 6   id_artists        586672 non-null  object \n",
      " 7   release_date      586672 non-null  object \n",
      " 8   danceability      586672 non-null  float64\n",
      " 9   energy            586672 non-null  float64\n",
      " 10  key               586672 non-null  int64  \n",
      " 11  loudness          586672 non-null  float64\n",
      " 12  mode              586672 non-null  int64  \n",
      " 13  speechiness       586672 non-null  float64\n",
      " 14  acousticness      586672 non-null  float64\n",
      " 15  instrumentalness  586672 non-null  float64\n",
      " 16  liveness          586672 non-null  float64\n",
      " 17  valence           586672 non-null  float64\n",
      " 18  tempo             586672 non-null  float64\n",
      " 19  time_signature    586672 non-null  int64  \n",
      "dtypes: float64(9), int64(6), object(5)\n",
      "memory usage: 89.5+ MB\n"
     ]
    }
   ],
   "source": [
    "tracks_data.info()"
   ]
  },
  {
   "cell_type": "markdown",
   "id": "meaningful-xerox",
   "metadata": {},
   "source": [
    "# Some Basic Info and Tasks\n",
    "\n",
    "## There are 586,672 entries in the dataset. There are 20 features in total of which \"id\", \"name\", \"id_artists\" are not expected to carry much information for any task. Get rid of these columns.\n",
    "\n",
    "## After that, replace the values in the \"release_date\" column with just the year as an integer to make it easier to work with those values later."
   ]
  },
  {
   "cell_type": "code",
   "execution_count": 6,
   "id": "relative-enforcement",
   "metadata": {},
   "outputs": [
    {
     "name": "stdout",
     "output_type": "stream",
     "text": [
      "<class 'pandas.core.frame.DataFrame'>\n",
      "RangeIndex: 586672 entries, 0 to 586671\n",
      "Data columns (total 17 columns):\n",
      " #   Column            Non-Null Count   Dtype  \n",
      "---  ------            --------------   -----  \n",
      " 0   popularity        586672 non-null  int64  \n",
      " 1   duration_ms       586672 non-null  int64  \n",
      " 2   explicit          586672 non-null  int64  \n",
      " 3   artists           586672 non-null  object \n",
      " 4   release_date      586672 non-null  object \n",
      " 5   danceability      586672 non-null  float64\n",
      " 6   energy            586672 non-null  float64\n",
      " 7   key               586672 non-null  int64  \n",
      " 8   loudness          586672 non-null  float64\n",
      " 9   mode              586672 non-null  int64  \n",
      " 10  speechiness       586672 non-null  float64\n",
      " 11  acousticness      586672 non-null  float64\n",
      " 12  instrumentalness  586672 non-null  float64\n",
      " 13  liveness          586672 non-null  float64\n",
      " 14  valence           586672 non-null  float64\n",
      " 15  tempo             586672 non-null  float64\n",
      " 16  time_signature    586672 non-null  int64  \n",
      "dtypes: float64(9), int64(6), object(2)\n",
      "memory usage: 76.1+ MB\n"
     ]
    }
   ],
   "source": [
    "tracks_data = tracks_data.drop([\"id\", \"name\", \"id_artists\"], axis=1)\n",
    "tracks_data.info()"
   ]
  },
  {
   "cell_type": "code",
   "execution_count": 8,
   "id": "external-creature",
   "metadata": {},
   "outputs": [],
   "source": [
    "bad_year_ind = []\n",
    "#tracks_data2 = tracks_data.copy()\n",
    "for i in range(tracks_data.shape[0]):\n",
    "    year = tracks_data.at[i, \"release_date\"]\n",
    "    if(len(year) < 4):\n",
    "        bad_year_ind.append(i)\n",
    "        #tracks_data.iloc[i].loc[\"release_date\"] = int(year)\n",
    "        tracks_data.at[i,\"release_date\"] = int(year)\n",
    "    else:\n",
    "        year = year[0:4]\n",
    "        #tracks_data.iloc[i].loc[\"release_date\"] = \"NA\"\n",
    "        #bad_year_ind.append(i)\n",
    "        tracks_data.at[i,\"release_date\"] = int(year)\n",
    "\n",
    "tracks_data.rename(columns={\"release_date\":\"year\"}, inplace=True)\n",
    "tracks_data.sort_values(by=\"year\", inplace=True)"
   ]
  },
  {
   "cell_type": "code",
   "execution_count": 9,
   "id": "successful-insider",
   "metadata": {},
   "outputs": [
    {
     "name": "stdout",
     "output_type": "stream",
     "text": [
      "Number of bad values in the release_date column=  0\n",
      "<class 'pandas.core.frame.DataFrame'>\n",
      "Int64Index: 586672 entries, 478627 to 444564\n",
      "Data columns (total 17 columns):\n",
      " #   Column            Non-Null Count   Dtype  \n",
      "---  ------            --------------   -----  \n",
      " 0   popularity        586672 non-null  int64  \n",
      " 1   duration_ms       586672 non-null  int64  \n",
      " 2   explicit          586672 non-null  int64  \n",
      " 3   artists           586672 non-null  object \n",
      " 4   year              586672 non-null  object \n",
      " 5   danceability      586672 non-null  float64\n",
      " 6   energy            586672 non-null  float64\n",
      " 7   key               586672 non-null  int64  \n",
      " 8   loudness          586672 non-null  float64\n",
      " 9   mode              586672 non-null  int64  \n",
      " 10  speechiness       586672 non-null  float64\n",
      " 11  acousticness      586672 non-null  float64\n",
      " 12  instrumentalness  586672 non-null  float64\n",
      " 13  liveness          586672 non-null  float64\n",
      " 14  valence           586672 non-null  float64\n",
      " 15  tempo             586672 non-null  float64\n",
      " 16  time_signature    586672 non-null  int64  \n",
      "dtypes: float64(9), int64(6), object(2)\n",
      "memory usage: 80.6+ MB\n"
     ]
    }
   ],
   "source": [
    "print(\"Number of bad values in the release_date column= \",len(bad_year_ind))\n",
    "tracks_data.info()"
   ]
  },
  {
   "cell_type": "markdown",
   "id": "middle-month",
   "metadata": {},
   "source": [
    "### The \"release_date\" has been renamed to \"year\". There are no bad values in the column.\n",
    "\n",
    "### Plot a histogram of number of tracks based on the year of release."
   ]
  },
  {
   "cell_type": "code",
   "execution_count": 23,
   "id": "skilled-hostel",
   "metadata": {},
   "outputs": [
    {
     "data": {
      "text/plain": [
       "Text(0.5, 1.0, 'Histrogram of tracks based on year of release')"
      ]
     },
     "execution_count": 23,
     "metadata": {},
     "output_type": "execute_result"
    },
    {
     "data": {
      "image/png": "[encoded data removed]",
      "text/plain": [
       "<Figure size 432x288 with 1 Axes>"
      ]
     },
     "metadata": {
      "needs_background": "light"
     },
     "output_type": "display_data"
    }
   ],
   "source": [
    "q = tracks_data.year.values\n",
    "plt.hist(q, bins=50)\n",
    "#plt.yscale(\"log\")\n",
    "plt.xlabel(\"Year\")\n",
    "plt.ylabel(\"Number of tracks\")\n",
    "plt.title(\"Histrogram of tracks based on year of release\")"
   ]
  },
  {
   "cell_type": "markdown",
   "id": "large-challenge",
   "metadata": {},
   "source": [
    "## Let's look at the trends in some of the attributes that are given for the tracks (energy, danceability etc.)\n",
    "\n",
    "### Question: What has the trend been in the energy of the music over time?\n",
    "\n",
    "### To find out, compute the median energy in songs for each decade and plot those values. Use bootstrap for better measurement. "
   ]
  },
  {
   "cell_type": "code",
   "execution_count": 34,
   "id": "relative-figure",
   "metadata": {},
   "outputs": [],
   "source": [
    "median_energy_decade = []\n",
    "for y in range(1900,2020,10):\n",
    "    df = tracks_data[(tracks_data.year >= y) & (tracks_data.year < y+10)]\n",
    "    if(df.energy.shape[0]>0):\n",
    "        e = bs.bootstrap(df.energy.values,stat_func=bs_stats.median)\n",
    "        median_energy_decade.append((e.value, y+10))"
   ]
  },
  {
   "cell_type": "code",
   "execution_count": 44,
   "id": "special-certificate",
   "metadata": {},
   "outputs": [
    {
     "data": {
      "text/plain": [
       "Text(0.5, 1.0, 'Energy of songs across decades')"
      ]
     },
     "execution_count": 44,
     "metadata": {},
     "output_type": "execute_result"
    },
    {
     "data": {
      "image/png": "[encoded data removed]",
      "text/plain": [
       "<Figure size 432x288 with 1 Axes>"
      ]
     },
     "metadata": {
      "needs_background": "light"
     },
     "output_type": "display_data"
    }
   ],
   "source": [
    "energy_values = [x[0] for x in median_energy_decade]\n",
    "decade_values = [x[1] for x in median_energy_decade]\n",
    "plt.bar(decade_values,energy_values)\n",
    "plt.xlabel(\"Years\")\n",
    "plt.ylabel(\"Median energy in songs\")\n",
    "plt.title(\"Energy of songs across decades\")"
   ]
  },
  {
   "cell_type": "markdown",
   "id": "appreciated-figure",
   "metadata": {},
   "source": [
    "### There is only one song in the dataset between 1900 and 1920 and it happens to have a high energy score. That's why the first energy value is so high. But looking at the rest of the plot, it would appear that songs have gotten more energetic as the years went by.  "
   ]
  },
  {
   "cell_type": "markdown",
   "id": "enabling-subscription",
   "metadata": {},
   "source": [
    "### Question: What has the trend been in the tempo and danceability of the music over time?"
   ]
  },
  {
   "cell_type": "code",
   "execution_count": 45,
   "id": "conservative-supply",
   "metadata": {},
   "outputs": [],
   "source": [
    "median_tempo_decade = []\n",
    "median_dance_decade = []\n",
    "for y in range(1900,2020,10):\n",
    "    df = tracks_data[(tracks_data.year >= y) & (tracks_data.year < y+10)]\n",
    "    if(df.tempo.shape[0]>0):\n",
    "        e = bs.bootstrap(df.tempo.values,stat_func=bs_stats.median)\n",
    "        median_tempo_decade.append((e.value, y+10))\n",
    "    if(df.danceability.shape[0]>0):\n",
    "        e = bs.bootstrap(df.danceability.values,stat_func=bs_stats.median)\n",
    "        median_dance_decade.append((e.value, y+10))"
   ]
  },
  {
   "cell_type": "code",
   "execution_count": 46,
   "id": "thorough-october",
   "metadata": {},
   "outputs": [
    {
     "data": {
      "text/plain": [
       "Text(0.5, 1.0, 'Danceability of songs across decades')"
      ]
     },
     "execution_count": 46,
     "metadata": {},
     "output_type": "execute_result"
    },
    {
     "data": {
      "image/png": "[encoded data removed]",
      "text/plain": [
       "<Figure size 432x288 with 1 Axes>"
      ]
     },
     "metadata": {
      "needs_background": "light"
     },
     "output_type": "display_data"
    },
    {
     "data": {
      "image/png": "[encoded data removed]",
      "text/plain": [
       "<Figure size 432x288 with 1 Axes>"
      ]
     },
     "metadata": {
      "needs_background": "light"
     },
     "output_type": "display_data"
    }
   ],
   "source": [
    "tempo_values = [x[0] for x in median_tempo_decade]\n",
    "decade_values = [x[1] for x in median_tempo_decade]\n",
    "plt.figure(1)\n",
    "plt.bar(decade_values,tempo_values)\n",
    "plt.xlabel(\"Years\")\n",
    "plt.ylabel(\"Median tempo of songs\")\n",
    "plt.title(\"Tempo of songs across decades\")\n",
    "\n",
    "dance_values = [x[0] for x in median_dance_decade]\n",
    "decade_values = [x[1] for x in median_dance_decade]\n",
    "plt.figure(2)\n",
    "plt.bar(decade_values, dance_values)\n",
    "plt.xlabel(\"Years\")\n",
    "plt.ylabel(\"Median danceability of songs\")\n",
    "plt.title(\"Danceability of songs across decades\")"
   ]
  },
  {
   "cell_type": "markdown",
   "id": "genetic-worthy",
   "metadata": {},
   "source": [
    "# 1. Focus: Artists"
   ]
  },
  {
   "cell_type": "markdown",
   "id": "marked-imaging",
   "metadata": {},
   "source": [
    "## The name of an artist is actually very important because it is well known that famous artists get listened to more often than not so popular ones by default, driving up their popularity further with every release. But to really account for such relationships between the artist's name and their song's popularity will require a different kind of data which isn't present in this dataset. Nevertheless, the name of the artist can still be useful to answer interesting questions like:\n",
    "### 1. What is the average song length for any given artist?\n",
    "### 2. Which artists have high energy scores? Do the findings match with what we would expect based on our knowledge of their music?\n",
    "### 3. Based on the year of release, are there significant changes in the loudness, energy, daceability, acousticness etc. for any given artist? \n",
    "### 4. Based on the answers found in 3, is there any correlation between artists whose song's features changed with the years and their popularity?"
   ]
  }
 ],
 "metadata": {
  "kernelspec": {
   "display_name": "Python 3",
   "language": "python",
   "name": "python3"
  },
  "language_info": {
   "codemirror_mode": {
    "name": "ipython",
    "version": 3
   },
   "file_extension": ".py",
   "mimetype": "text/x-python",
   "name": "python",
   "nbconvert_exporter": "python",
   "pygments_lexer": "ipython3",
   "version": "3.8.8"
  }
 },
 "nbformat": 4,
 "nbformat_minor": 5
}
